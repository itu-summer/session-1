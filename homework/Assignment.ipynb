{
 "cells": [
  {
   "cell_type": "markdown",
   "metadata": {
    "slideshow": {
     "slide_type": "slide"
    }
   },
   "source": [
    "# Assignment 1\n",
    "\n",
    "In this notebook you will work more with statements and operators. In the end of the notebook you will work on an assignment, which is due for hand-in **before Tuesday the 10th 23:00**.\n",
    "\n",
    "But before we get to the assignment, the following code examples will show you how to work with counting and invisible characters."
   ]
  },
  {
   "cell_type": "markdown",
   "metadata": {
    "slideshow": {
     "slide_type": "slide"
    }
   },
   "source": [
    "# Countdown\n",
    "\n",
    "Try to run the code below, and explain to your neighbour what the code is doing."
   ]
  },
  {
   "cell_type": "code",
   "execution_count": null,
   "metadata": {
    "collapsed": true,
    "slideshow": {
     "slide_type": "fragment"
    }
   },
   "outputs": [],
   "source": [
    "print(3)\n",
    "print(2)\n",
    "print(1)\n",
    "print('Boooooom!')"
   ]
  },
  {
   "cell_type": "markdown",
   "metadata": {
    "slideshow": {
     "slide_type": "fragment"
    }
   },
   "source": [
    "If you wanted to count down from 10 that would start to be boring... Luckily there is a solution for that. You already met your first **conditional** with the `if` statement. It instructs the computer to do one thing other: left or right in the maze. \n",
    "\n",
    "The `if` statement asks whether something is `True` or `False` **once**. And then it stops."
   ]
  },
  {
   "cell_type": "markdown",
   "metadata": {
    "slideshow": {
     "slide_type": "slide"
    }
   },
   "source": [
    "# It's the counting that counts\n",
    "\n",
    "To count down from 10 we would have to write out all the numbers: `10, 9, 8, 7, 6, 5, 4, 3, 2, 1`. What if we would like to use the same code, but count down from a specific number? Like 12?\n"
   ]
  },
  {
   "cell_type": "markdown",
   "metadata": {
    "slideshow": {
     "slide_type": "fragment"
    }
   },
   "source": [
    "To do that you'll need to replace the hardcoded numbers with a variable. Can you rearrange the program below to use the variable `counter`? Instead of each line printing the number, you need to first count it down and *then* print it."
   ]
  },
  {
   "cell_type": "code",
   "execution_count": null,
   "metadata": {
    "collapsed": true,
    "slideshow": {
     "slide_type": "fragment"
    }
   },
   "outputs": [],
   "source": [
    "print(3)\n",
    "print(2)\n",
    "print(1)\n",
    "print('Boooooom!')"
   ]
  },
  {
   "cell_type": "markdown",
   "metadata": {
    "slideshow": {
     "slide_type": "subslide"
    }
   },
   "source": [
    "That suddenly meant a lot more lines of code: you need to \n",
    " 1. create the variable\n",
    " 2. print the counter\n",
    " 3. count down the variable\n",
    " 4. etc. etc. etc.\n",
    " \n",
    "... Even more boring! Luckily Python has its own infinity machine that can help."
   ]
  },
  {
   "cell_type": "markdown",
   "metadata": {
    "slideshow": {
     "slide_type": "slide"
    }
   },
   "source": [
    "# The infinity machine\n",
    "\n",
    "Just like Chuck Norris, Python can count to infinity. We can prove it! Run the code below. And while you run the code, think about this: when will the code stop?"
   ]
  },
  {
   "cell_type": "code",
   "execution_count": null,
   "metadata": {
    "collapsed": true,
    "slideshow": {
     "slide_type": "fragment"
    }
   },
   "outputs": [],
   "source": [
    "counter = 1\n",
    "while True:\n",
    "    counter = counter + 1\n",
    "    print(counter)"
   ]
  },
  {
   "cell_type": "markdown",
   "metadata": {
    "slideshow": {
     "slide_type": "fragment"
    }
   },
   "source": [
    "When you get bored of waiting, press the stop (■) sign above to terminate the execution."
   ]
  },
  {
   "cell_type": "markdown",
   "metadata": {
    "slideshow": {
     "slide_type": "subslide"
    }
   },
   "source": [
    "## Loops \n",
    "You just witnessed your first loop. And a particularly nasty loop. Why? Because `while` doesn't only ask once like the `if` statement: it keeps asking and asking 'is `True == True`'. And if it is, it executes the code. It always is.\n",
    "\n",
    "For now, you just need to know that loops are very very handy. \n",
    "Imagine if you had to write the above code by hand! That would be a very very long series of:\n",
    "\n",
    "```python\n",
    "counter = 3\n",
    "counter = counter + 1\n",
    "print(counter)\n",
    "counter = counter + 1\n",
    "print(counter)\n",
    "...\n",
    "```"
   ]
  },
  {
   "cell_type": "markdown",
   "metadata": {
    "slideshow": {
     "slide_type": "subslide"
    }
   },
   "source": [
    "The example below is counting up. Can you make the program below count down instead?"
   ]
  },
  {
   "cell_type": "code",
   "execution_count": null,
   "metadata": {
    "collapsed": true,
    "slideshow": {
     "slide_type": "fragment"
    }
   },
   "outputs": [],
   "source": [
    "counter = 1\n",
    "while True:\n",
    "    counter = counter + 1\n",
    "    print(counter) "
   ]
  },
  {
   "cell_type": "markdown",
   "metadata": {
    "slideshow": {
     "slide_type": "slide"
    }
   },
   "source": [
    "# The invisible infinity machine\n",
    "\n",
    "In Python you can actually print invisible characters. You actually already did. The character `' '` doesn't show anywhere. It is just a blank space.\n",
    "\n",
    "Now you will learn about two more blank spaces: tabs and newlines."
   ]
  },
  {
   "cell_type": "markdown",
   "metadata": {
    "slideshow": {
     "slide_type": "fragment"
    }
   },
   "source": [
    "But before you do, think about how you would write a \"newline\"? What is the `str` equivalent of \"newline\"? Could you just tell Python to `print('newline')` or `print('\n",
    "')`? Try it out."
   ]
  },
  {
   "cell_type": "code",
   "execution_count": null,
   "metadata": {
    "collapsed": true
   },
   "outputs": [],
   "source": [
    "print('\n",
    "')"
   ]
  },
  {
   "cell_type": "markdown",
   "metadata": {
    "slideshow": {
     "slide_type": "subslide"
    }
   },
   "source": [
    "## Escaping the room\n",
    "\n",
    "No we can't! Python thinks it's a `str`. And if you don't finish that string it'll complain that you didn't finish the string. Duh.\n",
    "\n",
    "So the question is: how do we explain Python that we are not printing text, but we are printing \"non-text\"?"
   ]
  },
  {
   "cell_type": "markdown",
   "metadata": {
    "slideshow": {
     "slide_type": "fragment"
    }
   },
   "source": [
    "We can do that by what we call \"escaping\". We are \"escaping\" our text to indicate that we mean something else. Escaping is written with a `'\\'`. So to write a \"newline\" you can do that by escaping `'n'` for ***n***ewline:"
   ]
  },
  {
   "cell_type": "code",
   "execution_count": null,
   "metadata": {
    "collapsed": true,
    "slideshow": {
     "slide_type": "fragment"
    }
   },
   "outputs": [],
   "source": [
    "print('\\n')"
   ]
  },
  {
   "cell_type": "code",
   "execution_count": null,
   "metadata": {
    "collapsed": true,
    "slideshow": {
     "slide_type": "fragment"
    }
   },
   "outputs": [],
   "source": [
    "print('Hello \\n World')"
   ]
  },
  {
   "cell_type": "markdown",
   "metadata": {
    "slideshow": {
     "slide_type": "slide"
    }
   },
   "source": [
    "That was newlines. What about tabs? If newline was `'\\n'` what is tabs? Try to print it out."
   ]
  },
  {
   "cell_type": "markdown",
   "metadata": {
    "slideshow": {
     "slide_type": "fragment"
    }
   },
   "source": [
    "## Using user input\n",
    "\n",
    "Here's a last challenge: can you make the initial value of `counter` depend on a user input using the `input` operator?\n",
    "\n",
    "Then try to input an invisible character like `newline`."
   ]
  },
  {
   "cell_type": "code",
   "execution_count": null,
   "metadata": {
    "slideshow": {
     "slide_type": "subslide"
    }
   },
   "outputs": [],
   "source": [
    "counter = 1\n",
    "while True:\n",
    "    counter = counter + 1\n",
    "    print(counter) "
   ]
  },
  {
   "cell_type": "markdown",
   "metadata": {
    "slideshow": {
     "slide_type": "subslide"
    }
   },
   "source": [
    "We will be working much more with control structures such as `if` and `while` next session."
   ]
  },
  {
   "cell_type": "markdown",
   "metadata": {
    "slideshow": {
     "slide_type": "slide"
    }
   },
   "source": [
    "# Assignment Hand-in\n",
    "\n",
    "\n",
    "Copy and paste your _ELIZA_ program, which you typed in earlier in class, into the code cell below. If you did not attend the session at ITU find a solution in the lecture notes `My First Program.ipynb`. \n",
    "\n",
    "Now,\n",
    "\n",
    "  1. Modify your ELIZA program, so that it starts the conversation with a different question than `Hello. How are you feeling today?`.\n",
    "  * Modify your ELIZA program to exit when the user types: `Stop it! I have had enough!`\n",
    "    - Hint: use an `if` condition in the very end of your program in the while loop. Encode a line that says _if statement equals `\"Stop it! I have had enough!\"` then break out of the loop._\n",
    "    - Hint: most often, Python programs correspond to English sentences. In case you are stuck try to Google for: `Python break out of a loop`.\n",
    "  * Try to figure out where your ELIZA program gets the sentences from, which it prints when interacting with you. Name the file and copy and paste some of those lines as an example.\n",
    "\n",
    "\n",
    "## Hand-in Procedure\n",
    "\n",
    "On LearnIT it find the `Assignment 1: ELIZA the chatbot` and copy and paste your code solutions to the three tasks above."
   ]
  },
  {
   "cell_type": "code",
   "execution_count": null,
   "metadata": {},
   "outputs": [],
   "source": []
  },
  {
   "cell_type": "code",
   "execution_count": null,
   "metadata": {},
   "outputs": [],
   "source": [
    "talk_to_me()"
   ]
  },
  {
   "cell_type": "markdown",
   "metadata": {
    "slideshow": {
     "slide_type": "subslide"
    }
   },
   "source": [
    "# Reflection\n",
    "\n",
    "* Watch the video under: [https://archive.org/details/ComputerAndTheMindOfManP3TheUniversalMachine](https://archive.org/details/ComputerAndTheMindOfManP3TheUniversalMachine)\n",
    "    - Describe what a computer is and what is its purpose.\n",
    "    - What is a program?\n",
    "    - What is the role of humans in relation to computers?\n",
    "    - What is a programming language?\n",
    "    \n",
    "    \n",
    "Your reflections are not to be handed in."
   ]
  }
 ],
 "metadata": {
  "celltoolbar": "Slideshow",
  "kernelspec": {
   "display_name": "Python 3",
   "language": "python",
   "name": "python3"
  },
  "language_info": {
   "codemirror_mode": {
    "name": "ipython",
    "version": 3
   },
   "file_extension": ".py",
   "mimetype": "text/x-python",
   "name": "python",
   "nbconvert_exporter": "python",
   "pygments_lexer": "ipython3",
   "version": "3.6.4"
  }
 },
 "nbformat": 4,
 "nbformat_minor": 2
}
