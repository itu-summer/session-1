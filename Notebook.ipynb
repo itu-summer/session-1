{
 "cells": [
  {
   "cell_type": "markdown",
   "metadata": {},
   "source": [
    "# Welcome to your first programming experience!\n",
    "\n",
    "This is where your whole new adventure begins. We hope you are as excited as we are.\n",
    "\n",
    "First of all, enjoy the marvels of the 21st century by realising that you are now entering the complicated and impressive programming world. None of this would have happened 20 years ago. Incredible!\n",
    "\n",
    "Let's get to business. Look at the grey field below. The field is called a 'cell', and you can write code inside it. Progress with the task of copying the ELIZA hand-out into that cell, and don't forget the indentation (the spaces to the left of the text)! Note, that the intendation in the beginning of lines are created by pressing the tabulator (tab) key. On your keyboard this key looks something like: ⇥.\n",
    "\n",
    "Note that you can evaluate the content of the cell by pressing `▶ Run` or hitting `ctrl+Enter`."
   ]
  },
  {
   "cell_type": "code",
   "execution_count": null,
   "metadata": {},
   "outputs": [],
   "source": []
  },
  {
   "cell_type": "markdown",
   "metadata": {},
   "source": [
    "Continue to use this notebook throughout the session. You can add news cells by clicking on the **`+`** sign above."
   ]
  },
  {
   "cell_type": "code",
   "execution_count": null,
   "metadata": {},
   "outputs": [],
   "source": []
  }
 ],
 "metadata": {
  "kernelspec": {
   "display_name": "Python 3",
   "language": "python",
   "name": "python3"
  },
  "language_info": {
   "codemirror_mode": {
    "name": "ipython",
    "version": 3
   },
   "file_extension": ".py",
   "mimetype": "text/x-python",
   "name": "python",
   "nbconvert_exporter": "python",
   "pygments_lexer": "ipython3",
   "version": "3.6.4"
  }
 },
 "nbformat": 4,
 "nbformat_minor": 2
}
